{
 "cells": [
  {
   "cell_type": "markdown",
   "metadata": {
    "deletable": false,
    "editable": false
   },
   "source": [
    "# CS413 Image and Video Analysis -- Lab 9\n",
    "\n",
    "## Department of Computer Science, University of Warwick\n",
    "## November, 2019\n"
   ]
  },
  {
   "cell_type": "markdown",
   "metadata": {
    "deletable": false,
    "editable": false
   },
   "source": [
    "## Aims:\n",
    "\n",
    "The aims of this lab are to \n",
    "\n",
    "+ Learn how to implement a CNN using Keras\n",
    "+ Explore variations of the convolution/max-pooling/dropout layer sandwiches\n",
    "+ Learn about under and overfitting\n",
    "+ Investigate the effects of numbers of epochs, batch size, learning rate and drop-out layers\n",
    "+ Learn how to plot learning histories \n",
    "+ Evaluate and predict using a trained model and measure classification accuracy"
   ]
  },
  {
   "cell_type": "markdown",
   "metadata": {
    "deletable": false,
    "editable": false
   },
   "source": [
    "## Working on Google CoLabs -- Accessing data\n",
    "\n",
    "You will probably want to run this lab on GoogleCoLabs, in which case, to simplest way to access data \n",
    "is to attach your Google Drive directory to the Google CoLabs session by using the following code:\n",
    "\n",
    "Note for this Lab you only need to have the COIL-100 data which can be directly accessed from here\n",
    "\n",
    "http://www.cs.columbia.edu/CAVE/databases/SLAM_coil-20_coil-100/coil-100/coil-100.zip\n",
    "\n",
    "\n",
    "~~~\n",
    "# mount your local drive\n",
    "from google.colab import drive\n",
    "drive.mount('/content/drive')\n",
    "\n",
    "# list the contents of your drive and the lab data directory\n",
    "!ls /content/drive/My\\ Drive/data\n",
    "\n",
    "# then to say read an image called 'some-image.png' you need to do something like this \n",
    "data_dir = 'drive/My Drive/data/'\n",
    "im = cv2.read(data_dir + 'some-image.png')\n",
    "~~~"
   ]
  },
  {
   "cell_type": "code",
   "execution_count": 98,
   "metadata": {
    "deletable": false,
    "editable": false
   },
   "outputs": [],
   "source": [
    "import os\n",
    "import numpy as np\n",
    "import glob\n",
    "\n",
    "import matplotlib.pyplot as plt\n",
    "import matplotlib.image as mpimg\n",
    "\n",
    "import cv2 # opencv\n"
   ]
  },
  {
   "cell_type": "markdown",
   "metadata": {
    "deletable": false,
    "editable": false
   },
   "source": [
    "## COIL-100 data\n",
    "\n",
    "Load up the COIL-100 data as we have done previously."
   ]
  },
  {
   "cell_type": "code",
   "execution_count": 99,
   "metadata": {},
   "outputs": [],
   "source": [
    "num_classes = 100\n",
    "\n",
    "data_dir = '/modules/cs413/data/coil-100/' # or 'drive/My Drive/data/coil-100/' on Google Drive\n",
    "\n",
    "images = []\n",
    "classes = []\n",
    "example_images = []\n",
    "do_limit = False\n",
    "max_per_class = 32\n",
    "for i in range(num_classes):\n",
    "\n",
    "    filenames = glob.glob(data_dir + 'obj' + str(i+1) + '_*.png')\n",
    "    \n",
    "    for j in range(len(filenames)):\n",
    "        \n",
    "        im_gbr = cv2.imread(filenames[j])\n",
    "        im = cv2.cvtColor(im_gbr,cv2.COLOR_BGR2RGB) # convert from BGR ordering to RGB\n",
    "\n",
    "        images.append(im)\n",
    "        classes.append(i)\n",
    "\n",
    "        if (j==0):\n",
    "            example_images.append(im) # keep and example of each class\n",
    "            \n",
    "        # limit to 10 images per example\n",
    "        if do_limit:\n",
    "            if (j==9):\n",
    "                break\n",
    "\n"
   ]
  },
  {
   "cell_type": "markdown",
   "metadata": {
    "deletable": false,
    "editable": false
   },
   "source": [
    "## Keras imports\n",
    "\n",
    "Import Keras model `Sequential` so we can `add` Keras layers. \n",
    "\n",
    "In this Lab we will just use the two layers:\n",
    "~~~\n",
    "    Conv2D  \n",
    "    MaxPooling2D\n",
    "    Dense\n",
    "~~~\n",
    "\n",
    "And the operations `Flatten` and `Dropout`.\n",
    "\n"
   ]
  },
  {
   "cell_type": "code",
   "execution_count": 100,
   "metadata": {
    "deletable": false
   },
   "outputs": [],
   "source": [
    "import os\n",
    "\n",
    "import keras\n",
    "from keras.models import Sequential\n",
    "\n",
    "\n",
    "from keras.layers import Dense, Dropout, Flatten\n",
    "from keras.layers import Conv2D, MaxPooling2D\n",
    "from keras.optimizers import Adam, RMSprop"
   ]
  },
  {
   "cell_type": "markdown",
   "metadata": {
    "deletable": false,
    "editable": false
   },
   "source": [
    "## Exercise -- Data Wrangling\n",
    "\n",
    "Start by wrangling the data so that it in two arrays `x` and `y` which contain the image data and the classes.\n",
    "\n",
    "Normalise the image data to have range [0,1] and use `sklearn.utils.shuffle` to randomize the locations of the \n",
    "x-y pairs. \n",
    "\n",
    "Then make a training-validation split (e.g. 70% training, 30% validation) and put the subsets into two pairs \n",
    "of variables: `x_train, y_train` and 'x_val, y_val'.\n",
    "    \n",
    "Print out the shapes of these variables."
   ]
  },
  {
   "cell_type": "code",
   "execution_count": 101,
   "metadata": {},
   "outputs": [
    {
     "name": "stdout",
     "output_type": "stream",
     "text": [
      "x shape is  (7200, 128, 128, 3)\n",
      "y shape is  (7200,)\n",
      "x_train shape is  (5040, 128, 128, 3)\n",
      "y_train shape is  (5040,)\n"
     ]
    }
   ],
   "source": [
    "# convert data to numpy arrays and normalize\n",
    "# x = ...\n",
    "# y = ...\n",
    "\n",
    "x = np.array(images).astype('float')/255.0\n",
    "y = np.array(classes)\n",
    "\n",
    "# shuffle the data\n",
    "from sklearn.utils import shuffle\n",
    "x, y = shuffle(x, y, random_state=0)\n",
    "#x, y = shuffle(...)\n",
    "\n",
    "\n",
    "print('x shape is ', x.shape)\n",
    "print('y shape is ', y.shape)\n",
    "\n",
    "# partition data\n",
    "n70 = int(0.7 * x.shape[0])\n",
    "n30 = x.shape[0] - n70\n",
    "\n",
    "#x_train, x_val = \n",
    "#y_train, y_val = \n",
    "\n",
    "x_train, x_val = x[:n70], x[n70:]\n",
    "y_train, y_val = y[:n70], y[n70:]\n",
    "\n",
    "\n",
    "print('x_train shape is ', x_train.shape)\n",
    "print('y_train shape is ', y_train.shape)"
   ]
  },
  {
   "cell_type": "markdown",
   "metadata": {
    "deletable": false,
    "editable": false
   },
   "source": [
    "## Which backend have you got?\n",
    "\n",
    "This isn't a personal question!\n",
    "\n",
    "Depending on the *backend* kernel you have on your Keras installation, the order of the axes in the \n",
    "network input will need to be either channel-first or channel-last.\n",
    "\n",
    "We will need to confirm whether the kernel needs channel-first or channel-last and re-order the\n",
    "data variables by using `np.reshape` as appropriate.\n",
    "\n",
    "Use this incantantion which will set up the shape (`input_shape`) of the input-layer.\n"
   ]
  },
  {
   "cell_type": "code",
   "execution_count": 102,
   "metadata": {
    "deletable": false
   },
   "outputs": [
    {
     "name": "stdout",
     "output_type": "stream",
     "text": [
      "input_shape is  (128, 128, 3)\n"
     ]
    }
   ],
   "source": [
    "from keras import backend as K\n",
    "\n",
    "# input image dimensions\n",
    "img_rows, img_cols, num_channels = images[0].shape\n",
    "\n",
    "if K.image_data_format() == 'channels_first':\n",
    "    print(\"first\")\n",
    "    x_train = x_train.reshape(x_train.shape[0], num_channels, img_rows, img_cols)\n",
    "    x_val = x_val.reshape(x_val.shape[0], num_channels, img_rows, img_cols)\n",
    "    input_shape = (num_channels, img_rows, img_cols)\n",
    "else:\n",
    "    x_train = x_train.reshape(x_train.shape[0], img_rows, img_cols, num_channels)\n",
    "    x_val = x_val.reshape(x_val.shape[0], img_rows, img_cols, num_channels)\n",
    "    input_shape = (img_rows, img_cols, num_channels)\n",
    "    \n",
    "print('input_shape is ', input_shape)"
   ]
  },
  {
   "cell_type": "markdown",
   "metadata": {
    "deletable": false,
    "editable": false
   },
   "source": [
    "## Exercise -- One-hot-coding\n",
    "\n",
    "Convert your training and validation output vectors, i.e. `y_train` and `y_val` to one-hot-coded vectors\n",
    "using `keras.utils.to_categorical()`.\n",
    "\n"
   ]
  },
  {
   "cell_type": "code",
   "execution_count": 103,
   "metadata": {
    "deletable": false
   },
   "outputs": [
    {
     "name": "stdout",
     "output_type": "stream",
     "text": [
      "one hot coded [0. 0. 0. 0. 0. 0. 0. 0. 0. 0. 0. 0. 0. 0. 0. 0. 0. 0. 0. 0. 0. 0. 0. 0.\n",
      " 0. 0. 0. 0. 0. 0. 0. 0. 0. 0. 0. 0. 0. 0. 0. 0. 1. 0. 0. 0. 0. 0. 0. 0.\n",
      " 0. 0. 0. 0. 0. 0. 0. 0. 0. 0. 0. 0. 0. 0. 0. 0. 0. 0. 0. 0. 0. 0. 0. 0.\n",
      " 0. 0. 0. 0. 0. 0. 0. 0. 0. 0. 0. 0. 0. 0. 0. 0. 0. 0. 0. 0. 0. 0. 0. 0.\n",
      " 0. 0. 0. 0.] , class is  40\n"
     ]
    }
   ],
   "source": [
    "\n",
    "# convert class vectors to binary class matrices\n",
    "y_train_hot = keras.utils.to_categorical(y_train)\n",
    "y_val_hot = keras.utils.to_categorical(y_val)\n",
    "\n",
    "print('one hot coded', y_train_hot[0], ', class is ', np.argmax(y_train_hot[0]))"
   ]
  },
  {
   "cell_type": "markdown",
   "metadata": {
    "deletable": false,
    "editable": false
   },
   "source": [
    "## Exercise -- Design Network\n",
    "\n",
    "You are now ready to build your CNN.\n",
    "\n",
    "Hint: Make a network with at least one convolution and one max-pooling and complete the network with\n",
    "a dense layer with `num_classes` output neurons and a `softmax` activation. \n",
    "\n",
    "Start simple!"
   ]
  },
  {
   "cell_type": "code",
   "execution_count": 117,
   "metadata": {},
   "outputs": [
    {
     "name": "stdout",
     "output_type": "stream",
     "text": [
      "Input shape is  (128, 128, 3)\n",
      "100\n",
      "Model: \"sequential_51\"\n",
      "_________________________________________________________________\n",
      "Layer (type)                 Output Shape              Param #   \n",
      "=================================================================\n",
      "conv2d_49 (Conv2D)           (None, 126, 126, 32)      896       \n",
      "_________________________________________________________________\n",
      "max_pooling2d_48 (MaxPooling (None, 63, 63, 32)        0         \n",
      "_________________________________________________________________\n",
      "conv2d_50 (Conv2D)           (None, 61, 61, 16)        4624      \n",
      "_________________________________________________________________\n",
      "max_pooling2d_49 (MaxPooling (None, 30, 30, 16)        0         \n",
      "_________________________________________________________________\n",
      "flatten_30 (Flatten)         (None, 14400)             0         \n",
      "_________________________________________________________________\n",
      "dense_34 (Dense)             (None, 100)               1440100   \n",
      "=================================================================\n",
      "Total params: 1,445,620\n",
      "Trainable params: 1,445,620\n",
      "Non-trainable params: 0\n",
      "_________________________________________________________________\n"
     ]
    }
   ],
   "source": [
    "\n",
    "print('Input shape is ', input_shape)\n",
    "\n",
    "print(num_classes)\n",
    "\n",
    "batch_size = 1260 # you decide\n",
    "epochs = 5 # you decide\n",
    "\n",
    "model = Sequential()\n",
    "model.add(Conv2D(32, 3, input_shape=(128, 128, 3)))\n",
    "model.add(MaxPooling2D())\n",
    "model.add(Conv2D(16, 3))\n",
    "model.add(MaxPooling2D())\n",
    "model.add(Flatten())\n",
    "model.add(Dense(num_classes, activation='softmax'))\n",
    "model.build(x_train.shape)\n",
    "model.summary()"
   ]
  },
  {
   "cell_type": "markdown",
   "metadata": {
    "deletable": false,
    "editable": false
   },
   "source": [
    "## Exercise -- Training/Fitting\n",
    "\n",
    "Compile your network using an appropriate optimizer (e.g. `keras.optimizers.Adam()`)\n",
    "and use an appropriate `batch_size` and number of `epochs` to fit your\n",
    "training data. \n"
   ]
  },
  {
   "cell_type": "code",
   "execution_count": 118,
   "metadata": {
    "deletable": false
   },
   "outputs": [
    {
     "name": "stdout",
     "output_type": "stream",
     "text": [
      "Train on 5040 samples, validate on 2160 samples\n",
      "Epoch 1/5\n",
      "5040/5040 [==============================] - 17s 3ms/step - loss: 4.0667 - accuracy: 0.1774 - val_loss: 3.0022 - val_accuracy: 0.4806\n",
      "Epoch 2/5\n",
      "5040/5040 [==============================] - 17s 3ms/step - loss: 2.2542 - accuracy: 0.6351 - val_loss: 1.3336 - val_accuracy: 0.7653\n",
      "Epoch 3/5\n",
      "5040/5040 [==============================] - 17s 3ms/step - loss: 0.9490 - accuracy: 0.8365 - val_loss: 0.6552 - val_accuracy: 0.8509\n",
      "Epoch 4/5\n",
      "5040/5040 [==============================] - 17s 3ms/step - loss: 0.4367 - accuracy: 0.9060 - val_loss: 0.3446 - val_accuracy: 0.9231\n",
      "Epoch 5/5\n",
      "5040/5040 [==============================] - 17s 3ms/step - loss: 0.2290 - accuracy: 0.9520 - val_loss: 0.2300 - val_accuracy: 0.9384\n",
      "Model: \"sequential_51\"\n",
      "_________________________________________________________________\n",
      "Layer (type)                 Output Shape              Param #   \n",
      "=================================================================\n",
      "conv2d_49 (Conv2D)           (None, 126, 126, 32)      896       \n",
      "_________________________________________________________________\n",
      "max_pooling2d_48 (MaxPooling (None, 63, 63, 32)        0         \n",
      "_________________________________________________________________\n",
      "conv2d_50 (Conv2D)           (None, 61, 61, 16)        4624      \n",
      "_________________________________________________________________\n",
      "max_pooling2d_49 (MaxPooling (None, 30, 30, 16)        0         \n",
      "_________________________________________________________________\n",
      "flatten_30 (Flatten)         (None, 14400)             0         \n",
      "_________________________________________________________________\n",
      "dense_34 (Dense)             (None, 100)               1440100   \n",
      "=================================================================\n",
      "Total params: 1,445,620\n",
      "Trainable params: 1,445,620\n",
      "Non-trainable params: 0\n",
      "_________________________________________________________________\n"
     ]
    }
   ],
   "source": [
    "\n",
    "model.compile(loss='categorical_crossentropy',\n",
    "              optimizer=Adam(),\n",
    "              metrics=['accuracy'])\n",
    "\n",
    "history = model.fit(x_train, y_train_hot,\n",
    "          batch_size=batch_size,\n",
    "          epochs=epochs,\n",
    "          verbose=1,\n",
    "          validation_data=(x_val, y_val_hot))\n",
    "\n",
    "model.summary()"
   ]
  },
  {
   "cell_type": "markdown",
   "metadata": {
    "deletable": false,
    "editable": false
   },
   "source": [
    "## Exercise -- Training and validation / Optimizing the design\n",
    "\n",
    "Use the `history` returned from the `fit()` function above, \n",
    "plot loss/accurcay curves during training and validation.\n",
    "\n",
    "1. Are you satisfied the network is training without overfitting?\n",
    "2. Is the final accuracy good enough? \n",
    "3. Do you need to change the batch size or the number of epochs?\n",
    "4. Try adding `Dropout` after each max-pooling layer, e.g. \n",
    "~~~~\n",
    "    model.add(Dropout(0.25)) # you can vary the the rate of dropout, e.g. 25%\n",
    "~~~~\n",
    "5. Do you need to change the learning rate of the optimizer?\n",
    "6. Do you need to modify the design of your network?\n",
    "\n"
   ]
  },
  {
   "cell_type": "code",
   "execution_count": 121,
   "metadata": {},
   "outputs": [
    {
     "name": "stdout",
     "output_type": "stream",
     "text": [
      "2160/2160 [==============================] - 2s 810us/step\n"
     ]
    },
    {
     "data": {
      "image/png": "[encoded data removed]",
      "text/plain": [
       "<Figure size 432x288 with 1 Axes>"
      ]
     },
     "metadata": {
      "needs_background": "light"
     },
     "output_type": "display_data"
    },
    {
     "data": {
      "image/png": "[encoded data removed]",
      "text/plain": [
       "<Figure size 432x288 with 1 Axes>"
      ]
     },
     "metadata": {
      "needs_background": "light"
     },
     "output_type": "display_data"
    }
   ],
   "source": [
    "model.evaluate(x_val,y_val_hot)\n",
    "\n",
    "plt.plot(history.history['accuracy'])\n",
    "plt.plot(history.history['val_accuracy'])\n",
    "plt.title('Model accuracy')\n",
    "plt.ylabel('Accuracy')\n",
    "plt.xlabel('Epoch')\n",
    "plt.legend(['Train', 'Test'], loc='upper left')\n",
    "plt.show()\n",
    "\n",
    "# Plot training & validation loss values\n",
    "plt.plot(history.history['loss'])\n",
    "plt.plot(history.history['val_loss'])\n",
    "plt.title('Model loss')\n",
    "plt.ylabel('Loss')\n",
    "plt.xlabel('Epoch')\n",
    "plt.legend(['Train', 'Test'], loc='upper left')\n",
    "plt.show()"
   ]
  },
  {
   "cell_type": "markdown",
   "metadata": {
    "deletable": false,
    "editable": false
   },
   "source": [
    "## Exercise -- Evaluate the accuracy of the model\n",
    "\n",
    "Use the `model.evaluate()` function to find an accuracy score for the final model. \n",
    "\n"
   ]
  },
  {
   "cell_type": "markdown",
   "metadata": {
    "deletable": false,
    "editable": false
   },
   "source": [
    "## Exercise -- Confusion matrix\n",
    "\n",
    "Use your model to predict the classes (`y_val_hat`) of the validation data (`x_val`) and \n",
    "calculate the entries of a confusion matrix over all the classes.\n",
    "\n",
    "Print out the first 10 x 10 of this matrix.\n",
    "\n",
    "Plot the matrix as an image.\n"
   ]
  },
  {
   "cell_type": "code",
   "execution_count": 134,
   "metadata": {},
   "outputs": [
    {
     "data": {
      "image/png": "[encoded data removed]",
      "text/plain": [
       "<Figure size 432x288 with 1 Axes>"
      ]
     },
     "metadata": {
      "needs_background": "light"
     },
     "output_type": "display_data"
    }
   ],
   "source": [
    "from sklearn import metrics\n",
    "predictions = model.predict(x_train)\n",
    "y_pred = (predictions > 0.5)\n",
    "\n",
    "matrix = metrics.confusion_matrix(np.argmax(y_train_hot,axis=1), np.argmax(y_pred,axis=1))\n",
    "\n",
    "plt.imshow(matrix,cmap=\"gray\")\n",
    "plt.show()"
   ]
  },
  {
   "cell_type": "markdown",
   "metadata": {
    "deletable": false,
    "editable": false
   },
   "source": [
    "## Exercise -- Visualise K nearest-neighbour matches\n",
    "\n",
    "Once you are satistfied with your classifier, use it visualise which are the nearest K images to a given query image.\n",
    "\n",
    "Visualise also for any test image, which image not of that class, it matches with the highest accuracy (false-match).\n",
    "\n",
    "Compare your results with the bag of visual words methods from Lab-8.\n"
   ]
  },
  {
   "cell_type": "markdown",
   "metadata": {
    "deletable": false,
    "editable": false
   },
   "source": [
    "## Further Exercises\n",
    "\n",
    "\n",
    "If you have got this far, then well done!\n",
    "\n",
    "You should be now be in a good position to explore what you can do with CNNs using Keras.  \n",
    "\n",
    "You might like to run your network on the CIFAR10 data set which is built-in \n",
    "(you will probably need to do this on Google CoLabs).\n",
    "\n",
    "Look at a Keras example where they do transfer learning, perhaps using VGG16 as the pre-trained network.\n",
    "\n",
    "Implement a VGG16 pretrained network for the COIL-100 data.\n"
   ]
  }
 ],
 "metadata": {
  "celltoolbar": "Edit Metadata",
  "kernelspec": {
   "display_name": "Python 3",
   "language": "python",
   "name": "python3"
  },
  "language_info": {
   "codemirror_mode": {
    "name": "ipython",
    "version": 3
   },
   "file_extension": ".py",
   "mimetype": "text/x-python",
   "name": "python",
   "nbconvert_exporter": "python",
   "pygments_lexer": "ipython3",
   "version": "3.6.8"
  }
 },
 "nbformat": 4,
 "nbformat_minor": 2
}
